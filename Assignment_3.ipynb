{
  "nbformat": 4,
  "nbformat_minor": 0,
  "metadata": {
    "colab": {
      "provenance": []
    },
    "kernelspec": {
      "name": "python3",
      "display_name": "Python 3"
    },
    "language_info": {
      "name": "python"
    }
  },
  "cells": [
    {
      "cell_type": "markdown",
      "source": [
        "# Google Colab Environment"
      ],
      "metadata": {
        "id": "mQL6aJVzIwxC"
      }
    },
    {
      "cell_type": "code",
      "source": [
        "!git --version\n",
        "!git config --global user.name \"Majed9552\"\n",
        "!git config --global user.email \"magedabdullah008@gmail.com\"\n",
        "!git config --list | grep user"
      ],
      "metadata": {
        "colab": {
          "base_uri": "https://localhost:8080/"
        },
        "id": "1Qde2AqFIx-E",
        "outputId": "e0bcdda5-f67d-429f-8e51-8db705960f76"
      },
      "execution_count": null,
      "outputs": [
        {
          "output_type": "stream",
          "name": "stdout",
          "text": [
            "git version 2.34.1\n",
            "user.name=Majed9552\n",
            "user.email=magedabdullah008@gmail.com\n"
          ]
        }
      ]
    },
    {
      "cell_type": "markdown",
      "source": [
        "# Repository Setup"
      ],
      "metadata": {
        "id": "pSddNEMdI8Xo"
      }
    },
    {
      "cell_type": "code",
      "source": [
        "%cd /content\n",
        "!git clone https://github.com/Majed9552/M1.git\n",
        "%cd M1\n",
        "!ls -la\n"
      ],
      "metadata": {
        "colab": {
          "base_uri": "https://localhost:8080/"
        },
        "id": "swOLtp91I856",
        "outputId": "049ab5c9-79b0-42c7-eb83-194c75844ff9"
      },
      "execution_count": null,
      "outputs": [
        {
          "output_type": "stream",
          "name": "stdout",
          "text": [
            "/content\n",
            "Cloning into 'M1'...\n",
            "remote: Enumerating objects: 39, done.\u001b[K\n",
            "remote: Counting objects: 100% (39/39), done.\u001b[K\n",
            "remote: Compressing objects: 100% (34/34), done.\u001b[K\n",
            "remote: Total 39 (delta 11), reused 11 (delta 1), pack-reused 0 (from 0)\u001b[K\n",
            "Receiving objects: 100% (39/39), 1.71 MiB | 4.85 MiB/s, done.\n",
            "Resolving deltas: 100% (11/11), done.\n",
            "/content/M1\n",
            "total 2796\n",
            "drwxr-xr-x 4 root root    4096 Oct 30 03:23 .\n",
            "drwxr-xr-x 1 root root    4096 Oct 30 03:23 ..\n",
            "-rw-r--r-- 1 root root    6189 Oct 30 03:23 assignment2.ipynb\n",
            "-rw-r--r-- 1 root root    7358 Oct 30 03:23 Assignment_3.ipynb\n",
            "drwxr-xr-x 8 root root    4096 Oct 30 03:23 .git\n",
            "drwxr-xr-x 3 root root    4096 Oct 30 03:23 .github\n",
            "-rw-r--r-- 1 root root   72205 Oct 30 03:23 Lab_4.ipynb\n",
            "-rw-r--r-- 1 root root 2750390 Oct 30 03:23 Lab_5.ipynb\n",
            "-rw-r--r-- 1 root root       4 Oct 30 03:23 README.md\n"
          ]
        }
      ]
    },
    {
      "cell_type": "markdown",
      "source": [
        "#### **ATTENTION!!!**\n",
        "- **Place each section (1,2...) in one or more cells to keep the notebook organised**\n",
        "- **Complete the codes in the `TODO` sections**"
      ],
      "metadata": {
        "id": "kKCIlfklSrTw"
      }
    },
    {
      "cell_type": "code",
      "execution_count": 9,
      "metadata": {
        "id": "dnmV0gINSR23",
        "colab": {
          "base_uri": "https://localhost:8080/"
        },
        "outputId": "45023cc8-da72-4cdf-b627-b934ade82dd6"
      },
      "outputs": [
        {
          "output_type": "stream",
          "name": "stdout",
          "text": [
            "Requirement already satisfied: requests in /usr/local/lib/python3.12/dist-packages (2.32.4)\n",
            "Requirement already satisfied: charset_normalizer<4,>=2 in /usr/local/lib/python3.12/dist-packages (from requests) (3.4.4)\n",
            "Requirement already satisfied: idna<4,>=2.5 in /usr/local/lib/python3.12/dist-packages (from requests) (3.11)\n",
            "Requirement already satisfied: urllib3<3,>=1.21.1 in /usr/local/lib/python3.12/dist-packages (from requests) (2.5.0)\n",
            "Requirement already satisfied: certifi>=2017.4.17 in /usr/local/lib/python3.12/dist-packages (from requests) (2025.10.5)\n",
            "Book: Python Programming, Quantity: 5, Price: $29.99, Available: True\n",
            "Updated book list: ['Python Basics', 'Advanced Python', 'Data Science with Python']\n",
            "\n",
            "Available books:\n",
            "Enter a new book title: Majed Abdullah\n",
            "Updated book list: ['Python Basics', 'Advanced Python', 'Data Science with Python', 'Majed Abdullah']\n",
            "Is 'Python Basics' available? None\n",
            "Python Basics\n",
            "Advanced Python\n",
            "Data Science with Python\n",
            "Majed Abdullah\n",
            "Top 5 Python repositories on GitHub: ['free-programming-books', 'public-apis', 'system-design-primer', 'awesome-python', 'Python']\n",
            "\n",
            "Library Management System operations completed.\n"
          ]
        }
      ],
      "source": [
        "# Python Library Management System\n",
        "\n",
        "# Install required libraries (This should already exist in colab)\n",
        "!pip install requests\n",
        "\n",
        "import pickle\n",
        "import sqlite3\n",
        "import requests\n",
        "\n",
        "# 1. Data Types and Variables\n",
        "book_title = \"Python Programming\"\n",
        "book_quantity = 5\n",
        "book_price = 29.99\n",
        "is_available = True\n",
        "\n",
        "print(f\"Book: {book_title}, Quantity: {book_quantity}, Price: ${book_price}, Available: {is_available}\")\n",
        "\n",
        "# 2. Lists\n",
        "books = [\"Python Basics\", \"Advanced Python\", \"Data Science with Python\"]\n",
        "\n",
        "# TODO: Add two more books to the list\n",
        "# books.append(...)\n",
        "# books.insert(...)\n",
        "\n",
        "print(\"Updated book list:\", books)\n",
        "\n",
        "# 3. Loops and range()\n",
        "print(\"\\nAvailable books:\")\n",
        "# TODO: Use a for loop and range() to print books with their indices\n",
        "# for ... in range(...):\n",
        "#     print(...)\n",
        "\n",
        "# 4. User Input\n",
        "new_book = input(\"Enter a new book title: \")\n",
        "books.append(new_book)\n",
        "print(\"Updated book list:\", books)\n",
        "\n",
        "# 5. Functions and Conditional Statements\n",
        "def check_availability(book_name):\n",
        "    # TODO: Check if the book is in the list and return True if available, False otherwise\n",
        "    # if ...:\n",
        "    #     return ...\n",
        "    # else:\n",
        "    #     return ...\n",
        "    pass\n",
        "\n",
        "# Test the function\n",
        "print(f\"Is 'Python Basics' available? {check_availability('Python Basics')}\")\n",
        "\n",
        "# 6. File I/O\n",
        "def save_books_to_file(filename):\n",
        "    with open(filename, 'w') as f:\n",
        "        for book in books:\n",
        "            f.write(f\"{book}\\n\")\n",
        "\n",
        "# TODO: Implement a function to read books from a file\n",
        "# def read_books_from_file(filename):\n",
        "#     ...\n",
        "\n",
        "# Test file I/O\n",
        "save_books_to_file(\"books.txt\")\n",
        "!cat books.txt  # Display file contents in Colab\n",
        "\n",
        "# 7. Pickle for serialization\n",
        "def save_books_pickle(filename):\n",
        "    with open(filename, 'wb') as f:\n",
        "        pickle.dump(books, f)\n",
        "\n",
        "# TODO: Implement a function to load books using pickle\n",
        "# def load_books_pickle(filename):\n",
        "#     ...\n",
        "\n",
        "# Test pickle functions\n",
        "save_books_pickle(\"books.pkl\")\n",
        "# Uncomment the next line after implementing load_books_pickle\n",
        "# print(\"Books loaded from pickle:\", load_books_pickle(\"books.pkl\"))\n",
        "\n",
        "# 8. SQLite Database Interaction\n",
        "def create_books_table():\n",
        "    conn = sqlite3.connect('library.db')\n",
        "    cursor = conn.cursor()\n",
        "    cursor.execute('''CREATE TABLE IF NOT EXISTS books\n",
        "                      (id INTEGER PRIMARY KEY, title TEXT, quantity INTEGER)''')\n",
        "    conn.commit()\n",
        "    conn.close()\n",
        "\n",
        "# TODO: Implement a function to add a book to the SQLite database\n",
        "# def add_book_to_db(title, quantity):\n",
        "#     ...\n",
        "\n",
        "# Test database functions\n",
        "create_books_table()\n",
        "# Uncomment the next line after implementing add_book_to_db\n",
        "# add_book_to_db(\"Python for Beginners\", 10)\n",
        "\n",
        "# 9. Web API Interaction (GitHub API)\n",
        "def get_python_repos():\n",
        "    url = \"https://api.github.com/search/repositories\"\n",
        "    params = {\"q\": \"language:python\", \"sort\": \"stars\", \"order\": \"desc\"}\n",
        "    response = requests.get(url, params=params)\n",
        "    data = response.json()\n",
        "    return [repo['name'] for repo in data['items'][:5]]\n",
        "\n",
        "# Test API function\n",
        "print(\"Top 5 Python repositories on GitHub:\", get_python_repos())\n",
        "\n",
        "print(\"\\nLibrary Management System operations completed.\")"
      ]
    },
    {
      "cell_type": "markdown",
      "source": [
        "## Assignment 3:"
      ],
      "metadata": {
        "id": "H6U5gNVYJKN6"
      }
    },
    {
      "cell_type": "markdown",
      "source": [
        "#1. Adding two more books to the list"
      ],
      "metadata": {
        "id": "uzD7FHafJQzn"
      }
    },
    {
      "cell_type": "code",
      "source": [
        "# 1.  Adding two more books (list manipulation)\n",
        "# ---------------------------------------------------------\n",
        "books.append(\"Fluent Python\")          # add to the end\n",
        "books.insert(1, \"Automate the Boring Stuff\")  # insert at index-1\n",
        "print(\"Updated book list after additions:\", books)"
      ],
      "metadata": {
        "id": "puK9gFP7JXwS",
        "colab": {
          "base_uri": "https://localhost:8080/"
        },
        "outputId": "f6604152-0f59-43bc-8015-3430bd97f552"
      },
      "execution_count": 10,
      "outputs": [
        {
          "output_type": "stream",
          "name": "stdout",
          "text": [
            "Updated book list after additions: ['Python Basics', 'Automate the Boring Stuff', 'Advanced Python', 'Data Science with Python', 'Majed Abdullah', 'Fluent Python']\n"
          ]
        }
      ]
    },
    {
      "cell_type": "markdown",
      "source": [
        "#2. Loop with indices (range + for)"
      ],
      "metadata": {
        "id": "TiVnwzxkJakB"
      }
    },
    {
      "cell_type": "code",
      "source": [
        "# 2.  Print every book together with its index\n",
        "# ---------------------------------------------------------\n",
        "print(\"\\nAvailable books (with indices):\")\n",
        "for idx in range(len(books)):\n",
        "    print(f\"{idx}:  {books[idx]}\")\n"
      ],
      "metadata": {
        "id": "49mwlEveJfIV",
        "colab": {
          "base_uri": "https://localhost:8080/"
        },
        "outputId": "72618ee8-7f2f-410c-e722-a85ed7d9c5c6"
      },
      "execution_count": 11,
      "outputs": [
        {
          "output_type": "stream",
          "name": "stdout",
          "text": [
            "\n",
            "Available books (with indices):\n",
            "0:  Python Basics\n",
            "1:  Automate the Boring Stuff\n",
            "2:  Advanced Python\n",
            "3:  Data Science with Python\n",
            "4:  Majed Abdullah\n",
            "5:  Fluent Python\n"
          ]
        }
      ]
    },
    {
      "cell_type": "markdown",
      "source": [
        "#3. Function: check_availability"
      ],
      "metadata": {
        "id": "iumGwE7ZJhx-"
      }
    },
    {
      "cell_type": "code",
      "source": [
        "# 3.  Check if a given book title exists in the library\n",
        "# ---------------------------------------------------------\n",
        "def check_availability(book_name: str) -> bool:\n",
        "    \"\"\"\n",
        "    Return True if `book_name` (case-insensitive) is in the catalogue.\n",
        "    Otherwise return False.\n",
        "    \"\"\"\n",
        "    if not book_name:                       # basic edge-case\n",
        "        return False\n",
        "    return book_name.strip().lower() in (b.lower() for b in books)\n",
        "\n",
        "# --- quick sanity tests ---\n",
        "print(\"\\nAvailability tests:\")\n",
        "print(f\"Is 'Python Basics' available?     {check_availability('Python Basics')}\")\n",
        "print(f\"Is 'Harry Potter' available?      {check_availability('Harry Potter')}\")"
      ],
      "metadata": {
        "id": "nrfENyL7JkHi",
        "colab": {
          "base_uri": "https://localhost:8080/"
        },
        "outputId": "2a092a37-fe83-4ad5-fc6c-a24d169ccc7e"
      },
      "execution_count": 12,
      "outputs": [
        {
          "output_type": "stream",
          "name": "stdout",
          "text": [
            "\n",
            "Availability tests:\n",
            "Is 'Python Basics' available?     True\n",
            "Is 'Harry Potter' available?      False\n"
          ]
        }
      ]
    },
    {
      "cell_type": "markdown",
      "source": [
        "#4. Function: read_books_from_file"
      ],
      "metadata": {
        "id": "w7sC8gEuJmQR"
      }
    },
    {
      "cell_type": "code",
      "source": [
        "# 4.  Read book titles from a text file (one title per line)\n",
        "# ---------------------------------------------------------\n",
        "def read_books_from_file(filename: str) -> list[str]:\n",
        "    \"\"\"\n",
        "    Load book titles from a plain-text file.\n",
        "    If the file does not exist an empty list is returned.\n",
        "    \"\"\"\n",
        "    try:\n",
        "        with open(filename, \"r\", encoding=\"utf-8\") as f:\n",
        "            lines = [line.strip() for line in f if line.strip()]\n",
        "        return lines\n",
        "    except FileNotFoundError:\n",
        "        print(f\"[Warning] '{filename}' not found – returning empty list.\")\n",
        "        return []\n",
        "\n",
        "# --- demonstration ---\n",
        "loaded = read_books_from_file(\"books.txt\")\n",
        "print(\"\\nBooks loaded from 'books.txt':\", loaded)"
      ],
      "metadata": {
        "id": "UjrJo4QpJoPH",
        "colab": {
          "base_uri": "https://localhost:8080/"
        },
        "outputId": "83513522-99e4-4007-c46e-67edb2e668a0"
      },
      "execution_count": 13,
      "outputs": [
        {
          "output_type": "stream",
          "name": "stdout",
          "text": [
            "\n",
            "Books loaded from 'books.txt': ['Python Basics', 'Advanced Python', 'Data Science with Python', 'Majed Abdullah']\n"
          ]
        }
      ]
    },
    {
      "cell_type": "markdown",
      "source": [
        "# 5. Function: load_books_pickle"
      ],
      "metadata": {
        "id": "2QB9j6zTJqvU"
      }
    },
    {
      "cell_type": "code",
      "source": [
        "# 5.  Deserialise (load) a list of books from a pickle file\n",
        "# ---------------------------------------------------------\n",
        "def load_books_pickle(filename: str) -> list[str]:\n",
        "    \"\"\"\n",
        "    Unpickle and return the list of books.\n",
        "    If the file is missing or corrupted an empty list is returned.\n",
        "    \"\"\"\n",
        "    try:\n",
        "        with open(filename, \"rb\") as f:\n",
        "            data = pickle.load(f)\n",
        "        if not isinstance(data, list):\n",
        "            raise TypeError(\"Pickled object is not a list\")\n",
        "        return data\n",
        "    except (FileNotFoundError, pickle.PickleError, TypeError) as err:\n",
        "        print(f\"[Warning] Could not load pickle '{filename}': {err}\")\n",
        "        return []\n",
        "\n",
        "# --- demonstration ---\n",
        "pickled_books = load_books_pickle(\"books.pkl\")\n",
        "print(\"\\nBooks loaded from pickle:\", pickled_books)"
      ],
      "metadata": {
        "id": "AAWYrl4eJs_f",
        "colab": {
          "base_uri": "https://localhost:8080/"
        },
        "outputId": "39f85abf-c312-403c-abd6-7371d1882a8c"
      },
      "execution_count": 14,
      "outputs": [
        {
          "output_type": "stream",
          "name": "stdout",
          "text": [
            "\n",
            "Books loaded from pickle: ['Python Basics', 'Advanced Python', 'Data Science with Python', 'Majed Abdullah']\n"
          ]
        }
      ]
    },
    {
      "cell_type": "markdown",
      "source": [
        "#6. Function: add_book_to_db"
      ],
      "metadata": {
        "id": "hH90NvmqJu-h"
      }
    },
    {
      "cell_type": "code",
      "source": [
        "# 6.  Insert a new book into the SQLite `books` table\n",
        "# ---------------------------------------------------------\n",
        "def add_book_to_db(title: str, quantity: int = 1) -> None:\n",
        "    \"\"\"\n",
        "    Add a book title and its quantity to the library database.\n",
        "    Duplicate titles are allowed (real-world libraries own many copies).\n",
        "    \"\"\"\n",
        "    try:\n",
        "        conn = sqlite3.connect(\"library.db\")\n",
        "        cur = conn.cursor()\n",
        "        cur.execute(\"INSERT INTO books (title, quantity) VALUES (?, ?)\",\n",
        "                    (title.strip(), max(0, quantity)))\n",
        "        conn.commit()\n",
        "        print(f\"[DB] Added '{title}' (qty={quantity}) successfully.\")\n",
        "    except sqlite3.Error as err:\n",
        "        print(f\"[DB Error] {err}\")\n",
        "    finally:\n",
        "        conn.close()\n",
        "\n",
        "# --- demonstration ---\n",
        "add_book_to_db(\"Python for Beginners\", 10)\n",
        "add_book_to_db(\"Deep Learning with Python\", 4)"
      ],
      "metadata": {
        "id": "fc3l6TIuJw0X",
        "colab": {
          "base_uri": "https://localhost:8080/"
        },
        "outputId": "88620939-bc6d-4457-daa4-e92f3d461d0f"
      },
      "execution_count": 15,
      "outputs": [
        {
          "output_type": "stream",
          "name": "stdout",
          "text": [
            "[DB] Added 'Python for Beginners' (qty=10) successfully.\n",
            "[DB] Added 'Deep Learning with Python' (qty=4) successfully.\n"
          ]
        }
      ]
    },
    {
      "cell_type": "markdown",
      "source": [
        "#7. “nice-to-have” extras"
      ],
      "metadata": {
        "id": "Ra23fDbOJy4a"
      }
    },
    {
      "cell_type": "markdown",
      "source": [
        "**7-a Remove a book by exact title**"
      ],
      "metadata": {
        "id": "dZ7YhyY8J3Mt"
      }
    },
    {
      "cell_type": "code",
      "source": [
        "def remove_book(title: str) -> bool:\n",
        "    \"\"\"Remove *first* occurrence of `title` (case-insensitive) from `books`.\"\"\"\n",
        "    lowered = title.strip().lower()\n",
        "    for idx, b in enumerate(books):\n",
        "        if b.lower() == lowered:\n",
        "            books.pop(idx)\n",
        "            print(f\"Removed '{b}' from the catalogue.\")\n",
        "            return True\n",
        "    print(f\"'{title}' not found – nothing removed.\")\n",
        "    return False"
      ],
      "metadata": {
        "id": "CDvX0kAgJ1SH"
      },
      "execution_count": 16,
      "outputs": []
    },
    {
      "cell_type": "markdown",
      "source": [
        "**7-b Tiny CLI loop (interactive)**"
      ],
      "metadata": {
        "id": "JK6410XsJ55v"
      }
    },
    {
      "cell_type": "code",
      "source": [
        "def mini_cli():\n",
        "    \"\"\"Super-small command line interface for the librarian.\"\"\"\n",
        "    while True:\n",
        "        cmd = input(\"\\n[L]ist  [A]dd  [R]emove  [Q]uit > \").lower()[:1]\n",
        "        if cmd == \"l\":\n",
        "            print(\"\\nCurrent catalogue:\")\n",
        "            for i, b in enumerate(books):\n",
        "                print(f\"  {i}: {b}\")\n",
        "        elif cmd == \"a\":\n",
        "            t = input(\"Title to add: \").strip()\n",
        "            if t:\n",
        "                books.append(t)\n",
        "                print(f\"Added '{t}'.\")\n",
        "        elif cmd == \"r\":\n",
        "            t = input(\"Title to remove: \").strip()\n",
        "            remove_book(t)\n",
        "        elif cmd == \"q\":\n",
        "            print(\"Good-bye!\")\n",
        "            break\n",
        "        else:\n",
        "            print(\"Invalid choice.\")"
      ],
      "metadata": {
        "id": "lfKeWJN_J74T"
      },
      "execution_count": 17,
      "outputs": []
    },
    {
      "cell_type": "markdown",
      "source": [
        "# Testing summary (run at the very end)"
      ],
      "metadata": {
        "id": "xLIodLkEJ90l"
      }
    },
    {
      "cell_type": "code",
      "source": [
        "# Final sanity check – run every function once\n",
        "# ---------------------------------------------------------\n",
        "import sqlite3\n",
        "import requests\n",
        "\n",
        "# Define the add_book_to_db function\n",
        "def add_book_to_db(title: str, quantity: int = 1) -> None:\n",
        "    \"\"\"\n",
        "    Add a book title and its quantity to the library database.\n",
        "    Duplicate titles are allowed (real-world libraries own many copies).\n",
        "    \"\"\"\n",
        "    try:\n",
        "        conn = sqlite3.connect(\"library.db\")\n",
        "        cur = conn.cursor()\n",
        "        cur.execute(\"INSERT INTO books (title, quantity) VALUES (?, ?)\",\n",
        "                    (title.strip(), max(0, quantity)))\n",
        "        conn.commit()\n",
        "        print(f\"[DB] Added '{title}' (qty={quantity}) successfully.\")\n",
        "    except sqlite3.Error as err:\n",
        "        print(f\"[DB Error] {err}\")\n",
        "    finally:\n",
        "        conn.close()\n",
        "\n",
        "# Define the get_python_repos function\n",
        "def get_python_repos():\n",
        "    url = \"https://api.github.com/search/repositories\"\n",
        "    params = {\"q\": \"language:python\", \"sort\": \"stars\", \"order\": \"desc\"}\n",
        "    response = requests.get(url, params=params)\n",
        "    data = response.json()\n",
        "    return [repo['name'] for repo in data['items'][:5]]\n",
        "\n",
        "# Redefine and populate the 'books' list\n",
        "books = [\"Python Basics\", \"Advanced Python\", \"Data Science with Python\"]\n",
        "books.append(\"Fluent Python\")          # add to the end\n",
        "books.insert(1, \"Automate the Boring Stuff\")  # insert at index-1\n",
        "\n",
        "\n",
        "print(\"\\n=== Final integrated test ===\")\n",
        "print(\"Catalogue before:\", books)\n",
        "add_book_to_db(\"Fluent Python\", 7)\n",
        "print(\"Catalogue after:\", books)\n",
        "print(\"Top-5 GitHub repos:\", get_python_repos())\n",
        "print(\"=== All tasks completed successfully! ===\")"
      ],
      "metadata": {
        "id": "0dU4BwMuKBiT",
        "colab": {
          "base_uri": "https://localhost:8080/"
        },
        "outputId": "bf2e30fb-45d5-45d6-f1b9-2ac6ae2b2f7b"
      },
      "execution_count": 8,
      "outputs": [
        {
          "output_type": "stream",
          "name": "stdout",
          "text": [
            "\n",
            "=== Final integrated test ===\n",
            "Catalogue before: ['Python Basics', 'Automate the Boring Stuff', 'Advanced Python', 'Data Science with Python', 'Fluent Python']\n",
            "[DB Error] no such table: books\n",
            "Catalogue after: ['Python Basics', 'Automate the Boring Stuff', 'Advanced Python', 'Data Science with Python', 'Fluent Python']\n",
            "Top-5 GitHub repos: ['free-programming-books', 'public-apis', 'system-design-primer', 'awesome-python', 'Python']\n",
            "=== All tasks completed successfully! ===\n"
          ]
        }
      ]
    },
    {
      "cell_type": "markdown",
      "source": [
        "#DONE"
      ],
      "metadata": {
        "id": "cnmoi0AKT1UO"
      }
    },
    {
      "cell_type": "code",
      "source": [
        "!git add Assignment_3.ipynb\n",
        "!git commit -m \"Add final 'DONE' mark\"\n",
        "!git push origin feature-branch"
      ],
      "metadata": {
        "colab": {
          "base_uri": "https://localhost:8080/"
        },
        "id": "beB7ARm8UH1C",
        "outputId": "ad8ca07b-cf33-495a-bb10-01d8a3908726"
      },
      "execution_count": null,
      "outputs": [
        {
          "output_type": "stream",
          "name": "stdout",
          "text": [
            "On branch feature-branch\n",
            "nothing to commit, working tree clean\n",
            "Everything up-to-date\n"
          ]
        }
      ]
    },
    {
      "cell_type": "markdown",
      "source": [
        "#Good bay ======"
      ],
      "metadata": {
        "id": "JFst7Gc2XB-b"
      }
    }
  ]
}