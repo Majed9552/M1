{
  "nbformat": 4,
  "nbformat_minor": 0,
  "metadata": {
    "colab": {
      "provenance": [],
      "authorship_tag": "ABX9TyMDR74cCX9irInLCgVg1req",
      "include_colab_link": true
    },
    "kernelspec": {
      "name": "python3",
      "display_name": "Python 3"
    },
    "language_info": {
      "name": "python"
    }
  },
  "cells": [
    {
      "cell_type": "markdown",
      "metadata": {
        "id": "view-in-github",
        "colab_type": "text"
      },
      "source": [
        "<a href=\"https://colab.research.google.com/github/Majed9552/M1/blob/main/assignment2.ipynb\" target=\"_parent\"><img src=\"https://colab.research.google.com/assets/colab-badge.svg\" alt=\"Open In Colab\"/></a>"
      ]
    },
    {
      "cell_type": "markdown",
      "source": [
        "# Google Colab Environment"
      ],
      "metadata": {
        "id": "4YETNtF9h_68"
      }
    },
    {
      "cell_type": "code",
      "source": [
        "!git --version\n",
        "!git config --global user.name \"Majed9552\"\n",
        "!git config --global user.email \"magedabdullah008@gmail.com\"\n",
        "!git config --list | grep user"
      ],
      "metadata": {
        "colab": {
          "base_uri": "https://localhost:8080/"
        },
        "id": "NeZOz9Bhp1si",
        "outputId": "430e26b3-4e6b-48fc-c7b8-d190c6401ef3"
      },
      "execution_count": 24,
      "outputs": [
        {
          "output_type": "stream",
          "name": "stdout",
          "text": [
            "git version 2.34.1\n",
            "user.name=Majed9552\n",
            "user.email=magedabdullah008@gmail.com\n"
          ]
        }
      ]
    },
    {
      "cell_type": "markdown",
      "source": [
        "# Repository Setup"
      ],
      "metadata": {
        "id": "kLya4tI1iW-B"
      }
    },
    {
      "cell_type": "code",
      "source": [
        "%cd /content\n",
        "!git clone https://github.com/Majed9552/M1.git\n",
        "%cd M1\n",
        "!ls -la"
      ],
      "metadata": {
        "colab": {
          "base_uri": "https://localhost:8080/"
        },
        "id": "C0VL6HmBp9XU",
        "outputId": "6b9b1cb0-bd1c-4be6-8a5d-73a05239d626"
      },
      "execution_count": 25,
      "outputs": [
        {
          "output_type": "stream",
          "name": "stdout",
          "text": [
            "/content\n",
            "Cloning into 'M1'...\n",
            "remote: Enumerating objects: 27, done.\u001b[K\n",
            "remote: Counting objects: 100% (27/27), done.\u001b[K\n",
            "remote: Compressing objects: 100% (24/24), done.\u001b[K\n",
            "remote: Total 27 (delta 7), reused 11 (delta 1), pack-reused 0 (from 0)\u001b[K\n",
            "Receiving objects: 100% (27/27), 1.70 MiB | 11.52 MiB/s, done.\n",
            "Resolving deltas: 100% (7/7), done.\n",
            "/content/M1\n",
            "total 2776\n",
            "drwxr-xr-x 3 root root    4096 Oct 30 01:08 .\n",
            "drwxr-xr-x 1 root root    4096 Oct 30 01:08 ..\n",
            "drwxr-xr-x 8 root root    4096 Oct 30 01:08 .git\n",
            "-rw-r--r-- 1 root root   72205 Oct 30 01:08 Lab_4.ipynb\n",
            "-rw-r--r-- 1 root root 2750390 Oct 30 01:08 Lab_5.ipynb\n",
            "-rw-r--r-- 1 root root       4 Oct 30 01:08 README.md\n"
          ]
        }
      ]
    },
    {
      "cell_type": "markdown",
      "source": [
        "# Git and GitHub Assignment 2\n",
        "This notebook demonstrates basic Git operations."
      ],
      "metadata": {
        "id": "QJs5QEiSjEOL"
      }
    },
    {
      "cell_type": "code",
      "source": [
        "def multiply_numbers(a, b):\n",
        "    return a * b\n",
        "\n",
        "print(multiply_numbers(3, 4))"
      ],
      "metadata": {
        "colab": {
          "base_uri": "https://localhost:8080/"
        },
        "id": "16eMmCb-jHj2",
        "outputId": "7570b9cf-4f5d-41d9-b538-c290a316be82"
      },
      "execution_count": 19,
      "outputs": [
        {
          "output_type": "stream",
          "name": "stdout",
          "text": [
            "12\n"
          ]
        }
      ]
    },
    {
      "cell_type": "markdown",
      "source": [
        "#PUSH Frist patch"
      ],
      "metadata": {
        "id": "JnZ0qihclJsr"
      }
    },
    {
      "cell_type": "code",
      "source": [
        "!git add assignment2.ipynb\n",
        "!git commit -m \"Add initial notebook with multiplication function\"\n",
        "!git remote add origin https://github.com/Majed9552/M1.git\n",
        "!git push origin main"
      ],
      "metadata": {
        "colab": {
          "base_uri": "https://localhost:8080/"
        },
        "id": "rPgPGi3bjjZv",
        "outputId": "1026b604-05e5-41c8-bf66-28aa94bddf00"
      },
      "execution_count": 27,
      "outputs": [
        {
          "output_type": "stream",
          "name": "stdout",
          "text": [
            "fatal: pathspec 'assignment2.ipynb' did not match any files\n",
            "On branch main\n",
            "Your branch is up to date with 'origin/main'.\n",
            "\n",
            "nothing to commit, working tree clean\n",
            "error: remote origin already exists.\n",
            "fatal: could not read Username for 'https://github.com': No such device or address\n"
          ]
        }
      ]
    },
    {
      "cell_type": "markdown",
      "source": [],
      "metadata": {
        "id": "2ohKw2gKq_x_"
      }
    },
    {
      "cell_type": "code",
      "source": [],
      "metadata": {
        "colab": {
          "base_uri": "https://localhost:8080/"
        },
        "id": "diDf29XFlKI3",
        "outputId": "9155e122-bf1b-482a-ee36-118c577a539a"
      },
      "execution_count": 30,
      "outputs": [
        {
          "output_type": "stream",
          "name": "stdout",
          "text": [
            "fatal: pathspec 'assignment2.ipynb' did not match any files\n",
            "On branch feature-branch\n",
            "nothing to commit, working tree clean\n",
            "fatal: could not read Username for 'https://github.com': No such device or address\n"
          ]
        }
      ]
    }
  ]
}